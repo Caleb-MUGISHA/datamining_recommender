{
  "cells": [
    {
      "cell_type": "code",
      "source": [
        "pip install scikit-surprise"
      ],
      "metadata": {
        "colab": {
          "base_uri": "https://localhost:8080/"
        },
        "id": "KxD7R_l345hm",
        "outputId": "a095c079-5ad6-4cd6-beab-4fe5c09466b7"
      },
      "execution_count": null,
      "outputs": [
        {
          "output_type": "stream",
          "name": "stdout",
          "text": [
            "Looking in indexes: https://pypi.org/simple, https://us-python.pkg.dev/colab-wheels/public/simple/\n",
            "Collecting scikit-surprise\n",
            "  Downloading scikit-surprise-1.1.3.tar.gz (771 kB)\n",
            "\u001b[2K     \u001b[90m━━━━━━━━━━━━━━━━━━━━━━━━━━━━━━━━━━━━━━\u001b[0m \u001b[32m772.0/772.0 kB\u001b[0m \u001b[31m36.6 MB/s\u001b[0m eta \u001b[36m0:00:00\u001b[0m\n",
            "\u001b[?25h  Preparing metadata (setup.py) ... \u001b[?25l\u001b[?25hdone\n",
            "Requirement already satisfied: joblib>=1.0.0 in /usr/local/lib/python3.9/dist-packages (from scikit-surprise) (1.2.0)\n",
            "Requirement already satisfied: numpy>=1.17.3 in /usr/local/lib/python3.9/dist-packages (from scikit-surprise) (1.22.4)\n",
            "Requirement already satisfied: scipy>=1.3.2 in /usr/local/lib/python3.9/dist-packages (from scikit-surprise) (1.10.1)\n",
            "Building wheels for collected packages: scikit-surprise\n",
            "  Building wheel for scikit-surprise (setup.py) ... \u001b[?25l\u001b[?25hdone\n",
            "  Created wheel for scikit-surprise: filename=scikit_surprise-1.1.3-cp39-cp39-linux_x86_64.whl size=3195804 sha256=409ff5f792d4c6daef368a764cab9f56ae5dd139ccddaadaeffab34ba6be38fd\n",
            "  Stored in directory: /root/.cache/pip/wheels/c6/3a/46/9b17b3512bdf283c6cb84f59929cdd5199d4e754d596d22784\n",
            "Successfully built scikit-surprise\n",
            "Installing collected packages: scikit-surprise\n",
            "Successfully installed scikit-surprise-1.1.3\n"
          ]
        }
      ]
    },
    {
      "cell_type": "code",
      "execution_count": null,
      "metadata": {
        "id": "Pj2AMN_8soBF"
      },
      "outputs": [],
      "source": [
        "import random\n",
        "import pandas as pd\n",
        "import numpy as np\n",
        "from scipy.sparse import csr_matrix\n",
        "import seaborn as sns\n",
        "import matplotlib.pyplot as plt\n",
        "plt.style.use('ggplot')\n",
        "pd.options.mode.chained_assignment = None\n",
        "\n",
        "from sklearn.metrics import mean_squared_error\n",
        "from sklearn.preprocessing import LabelEncoder\n",
        "\n",
        "from pytorchtools import EarlyStopping\n",
        "\n",
        "import torch\n",
        "from torch.utils.data import Dataset, DataLoader\n",
        "import torch.nn as nn\n",
        "import torch.optim as optim\n",
        "import torch.nn.functional as F\n",
        "from torch.utils.data.sampler import SubsetRandomSampler\n",
        "\n",
        "\n",
        "from surprise import Reader, Dataset\n",
        "# from surprise import SVD, evaluate\n",
        "from surprise import NMF, KNNBasic\n",
        "from surprise.model_selection.validation import cross_validate"
      ]
    },
    {
      "cell_type": "code",
      "source": [
        "# Dataset: https://www.kaggle.com/datasets/CooperUnion/anime-recommendations-database\n",
        "!gdown --id \"1-9Y7fxzaY53xjetyh1OEAz5fVAjYJeUB\"\n",
        "!gdown --id \"1Gpi4HO8oVKLqabMFfn7e3boOm1agl149\""
      ],
      "metadata": {
        "colab": {
          "base_uri": "https://localhost:8080/"
        },
        "id": "rG7jfbOh7LVM",
        "outputId": "2933200e-b30b-4663-fe29-69b5ec9de783"
      },
      "execution_count": null,
      "outputs": [
        {
          "output_type": "stream",
          "name": "stdout",
          "text": [
            "/usr/local/lib/python3.9/dist-packages/gdown/cli.py:121: FutureWarning: Option `--id` was deprecated in version 4.3.1 and will be removed in 5.0. You don't need to pass it anymore to use a file ID.\n",
            "  warnings.warn(\n",
            "Downloading...\n",
            "From: https://drive.google.com/uc?id=1-9Y7fxzaY53xjetyh1OEAz5fVAjYJeUB\n",
            "To: /content/anime.csv\n",
            "100% 936k/936k [00:00<00:00, 177MB/s]\n",
            "/usr/local/lib/python3.9/dist-packages/gdown/cli.py:121: FutureWarning: Option `--id` was deprecated in version 4.3.1 and will be removed in 5.0. You don't need to pass it anymore to use a file ID.\n",
            "  warnings.warn(\n",
            "Downloading...\n",
            "From: https://drive.google.com/uc?id=1Gpi4HO8oVKLqabMFfn7e3boOm1agl149\n",
            "To: /content/rating.csv\n",
            "100% 111M/111M [00:02<00:00, 48.5MB/s] \n"
          ]
        }
      ]
    },
    {
      "cell_type": "markdown",
      "metadata": {
        "id": "jNO9wnuesoBG"
      },
      "source": [
        "# Loading the dataset"
      ]
    },
    {
      "cell_type": "code",
      "execution_count": null,
      "metadata": {
        "id": "PDys2B8msoBI"
      },
      "outputs": [],
      "source": [
        "anime = pd.read_csv(\"/content/anime.csv\")\n",
        "ratings = pd.read_csv(\"/content/rating.csv\")"
      ]
    },
    {
      "cell_type": "code",
      "execution_count": null,
      "metadata": {
        "colab": {
          "base_uri": "https://localhost:8080/",
          "height": 206
        },
        "id": "sRerlb9HsoBI",
        "outputId": "41e76f9b-e023-401f-b076-38b2b0f90163"
      },
      "outputs": [
        {
          "output_type": "execute_result",
          "data": {
            "text/plain": [
              "   anime_id                              name  \\\n",
              "0     32281                    Kimi no Na wa.   \n",
              "1      5114  Fullmetal Alchemist: Brotherhood   \n",
              "2     28977                          Gintama°   \n",
              "3      9253                       Steins;Gate   \n",
              "4      9969                     Gintama&#039;   \n",
              "\n",
              "                                               genre   type episodes  rating  \\\n",
              "0               Drama, Romance, School, Supernatural  Movie        1    9.37   \n",
              "1  Action, Adventure, Drama, Fantasy, Magic, Mili...     TV       64    9.26   \n",
              "2  Action, Comedy, Historical, Parody, Samurai, S...     TV       51    9.25   \n",
              "3                                   Sci-Fi, Thriller     TV       24    9.17   \n",
              "4  Action, Comedy, Historical, Parody, Samurai, S...     TV       51    9.16   \n",
              "\n",
              "   members  \n",
              "0   200630  \n",
              "1   793665  \n",
              "2   114262  \n",
              "3   673572  \n",
              "4   151266  "
            ],
            "text/html": [
              "\n",
              "  <div id=\"df-04c92a52-9097-479c-8c60-f9d7d9d136de\">\n",
              "    <div class=\"colab-df-container\">\n",
              "      <div>\n",
              "<style scoped>\n",
              "    .dataframe tbody tr th:only-of-type {\n",
              "        vertical-align: middle;\n",
              "    }\n",
              "\n",
              "    .dataframe tbody tr th {\n",
              "        vertical-align: top;\n",
              "    }\n",
              "\n",
              "    .dataframe thead th {\n",
              "        text-align: right;\n",
              "    }\n",
              "</style>\n",
              "<table border=\"1\" class=\"dataframe\">\n",
              "  <thead>\n",
              "    <tr style=\"text-align: right;\">\n",
              "      <th></th>\n",
              "      <th>anime_id</th>\n",
              "      <th>name</th>\n",
              "      <th>genre</th>\n",
              "      <th>type</th>\n",
              "      <th>episodes</th>\n",
              "      <th>rating</th>\n",
              "      <th>members</th>\n",
              "    </tr>\n",
              "  </thead>\n",
              "  <tbody>\n",
              "    <tr>\n",
              "      <th>0</th>\n",
              "      <td>32281</td>\n",
              "      <td>Kimi no Na wa.</td>\n",
              "      <td>Drama, Romance, School, Supernatural</td>\n",
              "      <td>Movie</td>\n",
              "      <td>1</td>\n",
              "      <td>9.37</td>\n",
              "      <td>200630</td>\n",
              "    </tr>\n",
              "    <tr>\n",
              "      <th>1</th>\n",
              "      <td>5114</td>\n",
              "      <td>Fullmetal Alchemist: Brotherhood</td>\n",
              "      <td>Action, Adventure, Drama, Fantasy, Magic, Mili...</td>\n",
              "      <td>TV</td>\n",
              "      <td>64</td>\n",
              "      <td>9.26</td>\n",
              "      <td>793665</td>\n",
              "    </tr>\n",
              "    <tr>\n",
              "      <th>2</th>\n",
              "      <td>28977</td>\n",
              "      <td>Gintama°</td>\n",
              "      <td>Action, Comedy, Historical, Parody, Samurai, S...</td>\n",
              "      <td>TV</td>\n",
              "      <td>51</td>\n",
              "      <td>9.25</td>\n",
              "      <td>114262</td>\n",
              "    </tr>\n",
              "    <tr>\n",
              "      <th>3</th>\n",
              "      <td>9253</td>\n",
              "      <td>Steins;Gate</td>\n",
              "      <td>Sci-Fi, Thriller</td>\n",
              "      <td>TV</td>\n",
              "      <td>24</td>\n",
              "      <td>9.17</td>\n",
              "      <td>673572</td>\n",
              "    </tr>\n",
              "    <tr>\n",
              "      <th>4</th>\n",
              "      <td>9969</td>\n",
              "      <td>Gintama&amp;#039;</td>\n",
              "      <td>Action, Comedy, Historical, Parody, Samurai, S...</td>\n",
              "      <td>TV</td>\n",
              "      <td>51</td>\n",
              "      <td>9.16</td>\n",
              "      <td>151266</td>\n",
              "    </tr>\n",
              "  </tbody>\n",
              "</table>\n",
              "</div>\n",
              "      <button class=\"colab-df-convert\" onclick=\"convertToInteractive('df-04c92a52-9097-479c-8c60-f9d7d9d136de')\"\n",
              "              title=\"Convert this dataframe to an interactive table.\"\n",
              "              style=\"display:none;\">\n",
              "        \n",
              "  <svg xmlns=\"http://www.w3.org/2000/svg\" height=\"24px\"viewBox=\"0 0 24 24\"\n",
              "       width=\"24px\">\n",
              "    <path d=\"M0 0h24v24H0V0z\" fill=\"none\"/>\n",
              "    <path d=\"M18.56 5.44l.94 2.06.94-2.06 2.06-.94-2.06-.94-.94-2.06-.94 2.06-2.06.94zm-11 1L8.5 8.5l.94-2.06 2.06-.94-2.06-.94L8.5 2.5l-.94 2.06-2.06.94zm10 10l.94 2.06.94-2.06 2.06-.94-2.06-.94-.94-2.06-.94 2.06-2.06.94z\"/><path d=\"M17.41 7.96l-1.37-1.37c-.4-.4-.92-.59-1.43-.59-.52 0-1.04.2-1.43.59L10.3 9.45l-7.72 7.72c-.78.78-.78 2.05 0 2.83L4 21.41c.39.39.9.59 1.41.59.51 0 1.02-.2 1.41-.59l7.78-7.78 2.81-2.81c.8-.78.8-2.07 0-2.86zM5.41 20L4 18.59l7.72-7.72 1.47 1.35L5.41 20z\"/>\n",
              "  </svg>\n",
              "      </button>\n",
              "      \n",
              "  <style>\n",
              "    .colab-df-container {\n",
              "      display:flex;\n",
              "      flex-wrap:wrap;\n",
              "      gap: 12px;\n",
              "    }\n",
              "\n",
              "    .colab-df-convert {\n",
              "      background-color: #E8F0FE;\n",
              "      border: none;\n",
              "      border-radius: 50%;\n",
              "      cursor: pointer;\n",
              "      display: none;\n",
              "      fill: #1967D2;\n",
              "      height: 32px;\n",
              "      padding: 0 0 0 0;\n",
              "      width: 32px;\n",
              "    }\n",
              "\n",
              "    .colab-df-convert:hover {\n",
              "      background-color: #E2EBFA;\n",
              "      box-shadow: 0px 1px 2px rgba(60, 64, 67, 0.3), 0px 1px 3px 1px rgba(60, 64, 67, 0.15);\n",
              "      fill: #174EA6;\n",
              "    }\n",
              "\n",
              "    [theme=dark] .colab-df-convert {\n",
              "      background-color: #3B4455;\n",
              "      fill: #D2E3FC;\n",
              "    }\n",
              "\n",
              "    [theme=dark] .colab-df-convert:hover {\n",
              "      background-color: #434B5C;\n",
              "      box-shadow: 0px 1px 3px 1px rgba(0, 0, 0, 0.15);\n",
              "      filter: drop-shadow(0px 1px 2px rgba(0, 0, 0, 0.3));\n",
              "      fill: #FFFFFF;\n",
              "    }\n",
              "  </style>\n",
              "\n",
              "      <script>\n",
              "        const buttonEl =\n",
              "          document.querySelector('#df-04c92a52-9097-479c-8c60-f9d7d9d136de button.colab-df-convert');\n",
              "        buttonEl.style.display =\n",
              "          google.colab.kernel.accessAllowed ? 'block' : 'none';\n",
              "\n",
              "        async function convertToInteractive(key) {\n",
              "          const element = document.querySelector('#df-04c92a52-9097-479c-8c60-f9d7d9d136de');\n",
              "          const dataTable =\n",
              "            await google.colab.kernel.invokeFunction('convertToInteractive',\n",
              "                                                     [key], {});\n",
              "          if (!dataTable) return;\n",
              "\n",
              "          const docLinkHtml = 'Like what you see? Visit the ' +\n",
              "            '<a target=\"_blank\" href=https://colab.research.google.com/notebooks/data_table.ipynb>data table notebook</a>'\n",
              "            + ' to learn more about interactive tables.';\n",
              "          element.innerHTML = '';\n",
              "          dataTable['output_type'] = 'display_data';\n",
              "          await google.colab.output.renderOutput(dataTable, element);\n",
              "          const docLink = document.createElement('div');\n",
              "          docLink.innerHTML = docLinkHtml;\n",
              "          element.appendChild(docLink);\n",
              "        }\n",
              "      </script>\n",
              "    </div>\n",
              "  </div>\n",
              "  "
            ]
          },
          "metadata": {},
          "execution_count": 6
        }
      ],
      "source": [
        "anime.head()"
      ]
    },
    {
      "cell_type": "code",
      "execution_count": null,
      "metadata": {
        "colab": {
          "base_uri": "https://localhost:8080/",
          "height": 206
        },
        "id": "5-mTMagvsoBJ",
        "outputId": "2fed2c1c-4349-43b1-fb48-d2a1afdcbba7"
      },
      "outputs": [
        {
          "output_type": "execute_result",
          "data": {
            "text/plain": [
              "   user_id  anime_id  rating\n",
              "0        1        20      -1\n",
              "1        1        24      -1\n",
              "2        1        79      -1\n",
              "3        1       226      -1\n",
              "4        1       241      -1"
            ],
            "text/html": [
              "\n",
              "  <div id=\"df-98995b7d-dcf2-43a0-90f2-07eb8bd40828\">\n",
              "    <div class=\"colab-df-container\">\n",
              "      <div>\n",
              "<style scoped>\n",
              "    .dataframe tbody tr th:only-of-type {\n",
              "        vertical-align: middle;\n",
              "    }\n",
              "\n",
              "    .dataframe tbody tr th {\n",
              "        vertical-align: top;\n",
              "    }\n",
              "\n",
              "    .dataframe thead th {\n",
              "        text-align: right;\n",
              "    }\n",
              "</style>\n",
              "<table border=\"1\" class=\"dataframe\">\n",
              "  <thead>\n",
              "    <tr style=\"text-align: right;\">\n",
              "      <th></th>\n",
              "      <th>user_id</th>\n",
              "      <th>anime_id</th>\n",
              "      <th>rating</th>\n",
              "    </tr>\n",
              "  </thead>\n",
              "  <tbody>\n",
              "    <tr>\n",
              "      <th>0</th>\n",
              "      <td>1</td>\n",
              "      <td>20</td>\n",
              "      <td>-1</td>\n",
              "    </tr>\n",
              "    <tr>\n",
              "      <th>1</th>\n",
              "      <td>1</td>\n",
              "      <td>24</td>\n",
              "      <td>-1</td>\n",
              "    </tr>\n",
              "    <tr>\n",
              "      <th>2</th>\n",
              "      <td>1</td>\n",
              "      <td>79</td>\n",
              "      <td>-1</td>\n",
              "    </tr>\n",
              "    <tr>\n",
              "      <th>3</th>\n",
              "      <td>1</td>\n",
              "      <td>226</td>\n",
              "      <td>-1</td>\n",
              "    </tr>\n",
              "    <tr>\n",
              "      <th>4</th>\n",
              "      <td>1</td>\n",
              "      <td>241</td>\n",
              "      <td>-1</td>\n",
              "    </tr>\n",
              "  </tbody>\n",
              "</table>\n",
              "</div>\n",
              "      <button class=\"colab-df-convert\" onclick=\"convertToInteractive('df-98995b7d-dcf2-43a0-90f2-07eb8bd40828')\"\n",
              "              title=\"Convert this dataframe to an interactive table.\"\n",
              "              style=\"display:none;\">\n",
              "        \n",
              "  <svg xmlns=\"http://www.w3.org/2000/svg\" height=\"24px\"viewBox=\"0 0 24 24\"\n",
              "       width=\"24px\">\n",
              "    <path d=\"M0 0h24v24H0V0z\" fill=\"none\"/>\n",
              "    <path d=\"M18.56 5.44l.94 2.06.94-2.06 2.06-.94-2.06-.94-.94-2.06-.94 2.06-2.06.94zm-11 1L8.5 8.5l.94-2.06 2.06-.94-2.06-.94L8.5 2.5l-.94 2.06-2.06.94zm10 10l.94 2.06.94-2.06 2.06-.94-2.06-.94-.94-2.06-.94 2.06-2.06.94z\"/><path d=\"M17.41 7.96l-1.37-1.37c-.4-.4-.92-.59-1.43-.59-.52 0-1.04.2-1.43.59L10.3 9.45l-7.72 7.72c-.78.78-.78 2.05 0 2.83L4 21.41c.39.39.9.59 1.41.59.51 0 1.02-.2 1.41-.59l7.78-7.78 2.81-2.81c.8-.78.8-2.07 0-2.86zM5.41 20L4 18.59l7.72-7.72 1.47 1.35L5.41 20z\"/>\n",
              "  </svg>\n",
              "      </button>\n",
              "      \n",
              "  <style>\n",
              "    .colab-df-container {\n",
              "      display:flex;\n",
              "      flex-wrap:wrap;\n",
              "      gap: 12px;\n",
              "    }\n",
              "\n",
              "    .colab-df-convert {\n",
              "      background-color: #E8F0FE;\n",
              "      border: none;\n",
              "      border-radius: 50%;\n",
              "      cursor: pointer;\n",
              "      display: none;\n",
              "      fill: #1967D2;\n",
              "      height: 32px;\n",
              "      padding: 0 0 0 0;\n",
              "      width: 32px;\n",
              "    }\n",
              "\n",
              "    .colab-df-convert:hover {\n",
              "      background-color: #E2EBFA;\n",
              "      box-shadow: 0px 1px 2px rgba(60, 64, 67, 0.3), 0px 1px 3px 1px rgba(60, 64, 67, 0.15);\n",
              "      fill: #174EA6;\n",
              "    }\n",
              "\n",
              "    [theme=dark] .colab-df-convert {\n",
              "      background-color: #3B4455;\n",
              "      fill: #D2E3FC;\n",
              "    }\n",
              "\n",
              "    [theme=dark] .colab-df-convert:hover {\n",
              "      background-color: #434B5C;\n",
              "      box-shadow: 0px 1px 3px 1px rgba(0, 0, 0, 0.15);\n",
              "      filter: drop-shadow(0px 1px 2px rgba(0, 0, 0, 0.3));\n",
              "      fill: #FFFFFF;\n",
              "    }\n",
              "  </style>\n",
              "\n",
              "      <script>\n",
              "        const buttonEl =\n",
              "          document.querySelector('#df-98995b7d-dcf2-43a0-90f2-07eb8bd40828 button.colab-df-convert');\n",
              "        buttonEl.style.display =\n",
              "          google.colab.kernel.accessAllowed ? 'block' : 'none';\n",
              "\n",
              "        async function convertToInteractive(key) {\n",
              "          const element = document.querySelector('#df-98995b7d-dcf2-43a0-90f2-07eb8bd40828');\n",
              "          const dataTable =\n",
              "            await google.colab.kernel.invokeFunction('convertToInteractive',\n",
              "                                                     [key], {});\n",
              "          if (!dataTable) return;\n",
              "\n",
              "          const docLinkHtml = 'Like what you see? Visit the ' +\n",
              "            '<a target=\"_blank\" href=https://colab.research.google.com/notebooks/data_table.ipynb>data table notebook</a>'\n",
              "            + ' to learn more about interactive tables.';\n",
              "          element.innerHTML = '';\n",
              "          dataTable['output_type'] = 'display_data';\n",
              "          await google.colab.output.renderOutput(dataTable, element);\n",
              "          const docLink = document.createElement('div');\n",
              "          docLink.innerHTML = docLinkHtml;\n",
              "          element.appendChild(docLink);\n",
              "        }\n",
              "      </script>\n",
              "    </div>\n",
              "  </div>\n",
              "  "
            ]
          },
          "metadata": {},
          "execution_count": 7
        }
      ],
      "source": [
        "ratings.head()"
      ]
    },
    {
      "cell_type": "markdown",
      "metadata": {
        "id": "1dRfXjoxsoBJ"
      },
      "source": [
        "# Simple Analytics"
      ]
    },
    {
      "cell_type": "code",
      "execution_count": null,
      "metadata": {
        "colab": {
          "base_uri": "https://localhost:8080/"
        },
        "id": "g4gGVGsEsoBK",
        "outputId": "5b5468c4-8fca-4719-d321-474a14be852d"
      },
      "outputs": [
        {
          "output_type": "stream",
          "name": "stdout",
          "text": [
            "Anime df shape:  (12294, 7) \n",
            "\n",
            "Ratings df shape :  (7813737, 3) \n",
            "\n",
            "-------------------------------------------\n",
            "Anime df shape:  Index(['anime_id', 'name', 'genre', 'type', 'episodes', 'rating', 'members'], dtype='object') \n",
            "\n",
            "Ratings df shape :  Index(['user_id', 'anime_id', 'rating'], dtype='object') \n",
            "\n",
            "-------------------------------------------\n",
            "Number of unique members :  6706\n",
            "Number of unique anime :  598 \n",
            "\n",
            "-------------------------------------------\n",
            "Ratings Range :  [-1 10  8  6  9  7  3  5  4  1  2]\n",
            "Users df NaN or not : \n",
            " \n",
            " anime_id      0\n",
            "name          0\n",
            "genre        62\n",
            "type         25\n",
            "episodes      0\n",
            "rating      230\n",
            "members       0\n",
            "dtype: int64\n",
            "------------------------------------------------\n",
            "\n",
            " Ratings df NaN or not : \n",
            "  \n",
            " user_id     0\n",
            "anime_id    0\n",
            "rating      0\n",
            "dtype: int64\n",
            "------------------------------------------------\n",
            "Users df NaN or not : \n",
            " \n",
            " anime_id    0\n",
            "name        0\n",
            "genre       0\n",
            "type        0\n",
            "episodes    0\n",
            "rating      0\n",
            "members     0\n",
            "dtype: int64\n",
            "------------------------------------------------\n",
            "Anime df shape:  (12017, 7) \n",
            "\n"
          ]
        }
      ],
      "source": [
        "# Shapes\n",
        "print (\"Anime df shape: \", anime.shape, '\\n')\n",
        "print (\"Ratings df shape : \", ratings.shape, '\\n')\n",
        "print (\"-------------------------------------------\")\n",
        "\n",
        "#Columns\n",
        "print (\"Anime df shape: \", anime.columns, '\\n')\n",
        "print (\"Ratings df shape : \", ratings.columns, '\\n')\n",
        "print (\"-------------------------------------------\")\n",
        "\n",
        "unique_members = anime.members.nunique()\n",
        "print ('Number of unique members : ', unique_members)\n",
        "unique_anime = anime.rating.nunique()\n",
        "print ('Number of unique anime : ', unique_anime, '\\n')\n",
        "\n",
        "#Ratings Range\n",
        "print (\"-------------------------------------------\")\n",
        "\n",
        "ratings_range = ratings.rating.unique()\n",
        "print ('Ratings Range : ', ratings_range)\n",
        "\n",
        "# Handle Missing Values\n",
        "print (\"Users df NaN or not : \\n \\n\", anime.isna().sum())\n",
        "print (\"------------------------------------------------\")\n",
        "print (\"\\n Ratings df NaN or not : \\n  \\n\", ratings.isna().sum())\n",
        "print (\"------------------------------------------------\")\n",
        "\n",
        "anime.dropna(inplace=True)\n",
        "\n",
        "print (\"Users df NaN or not : \\n \\n\", anime.isna().sum())\n",
        "print (\"------------------------------------------------\")\n",
        "print (\"Anime df shape: \", anime.shape, '\\n')"
      ]
    },
    {
      "cell_type": "markdown",
      "metadata": {
        "id": "eYZfkABmsoBK"
      },
      "source": [
        "# More Analytics \n",
        "\n",
        "## Plot the counts of each rating"
      ]
    },
    {
      "cell_type": "code",
      "execution_count": null,
      "metadata": {
        "colab": {
          "base_uri": "https://localhost:8080/",
          "height": 682
        },
        "id": "wWjhJr1NsoBK",
        "outputId": "d3871db3-f1cc-4570-b878-1bc56f556d1e"
      },
      "outputs": [
        {
          "output_type": "display_data",
          "data": {
            "text/plain": [
              "<Figure size 1600x1000 with 1 Axes>"
            ],
            "image/png": "[encoded data removed]"
          },
          "metadata": {}
        }
      ],
      "source": [
        "ratings_counts = pd.DataFrame(ratings.groupby('rating').size(), columns=['Count'])\n",
        "\n",
        "plt.figure (figsize=(16,10))\n",
        "ax = sns.barplot(x = ratings_counts.index.values, y = ratings_counts.Count.values)\n",
        "ax.set(xlabel='Ratings', ylabel='Count', title = 'Counts of each Rating')\n",
        "plt.show()"
      ]
    },
    {
      "cell_type": "markdown",
      "metadata": {
        "id": "_6yjeRYesoBL"
      },
      "source": [
        "### Remove \"-1\" values"
      ]
    },
    {
      "cell_type": "code",
      "execution_count": null,
      "metadata": {
        "id": "ZmsAFPInsoBL"
      },
      "outputs": [],
      "source": [
        "ratings = ratings[ratings.rating != -1]"
      ]
    },
    {
      "cell_type": "markdown",
      "metadata": {
        "id": "NKAVhFSqsoBL"
      },
      "source": [
        "# Plot the counts of each rating again"
      ]
    },
    {
      "cell_type": "code",
      "execution_count": null,
      "metadata": {
        "colab": {
          "base_uri": "https://localhost:8080/",
          "height": 682
        },
        "id": "JjIRgNKssoBM",
        "outputId": "0b18d90a-8c1e-4f83-8e16-87d614d88a62"
      },
      "outputs": [
        {
          "output_type": "display_data",
          "data": {
            "text/plain": [
              "<Figure size 1600x1000 with 1 Axes>"
            ],
            "image/png": "[encoded data removed]"
          },
          "metadata": {}
        }
      ],
      "source": [
        "ratings_counts = pd.DataFrame(ratings.groupby('rating').size(), columns=['Count'])\n",
        "\n",
        "plt.figure (figsize=(16,10))\n",
        "ax = sns.barplot(x = ratings_counts.index.values, y = ratings_counts.Count.values)\n",
        "ax.set(xlabel='Ratings', ylabel='Count', title = 'Counts of each Rating')\n",
        "plt.show()"
      ]
    },
    {
      "cell_type": "markdown",
      "metadata": {
        "id": "cCQG4VAdsoBM"
      },
      "source": [
        "## Frequency of each anime got rated"
      ]
    },
    {
      "cell_type": "code",
      "execution_count": null,
      "metadata": {
        "colab": {
          "base_uri": "https://localhost:8080/",
          "height": 671
        },
        "id": "0yXmamvrsoBM",
        "outputId": "29930e1f-ae31-4def-9b75-aa9790314823"
      },
      "outputs": [
        {
          "output_type": "display_data",
          "data": {
            "text/plain": [
              "<Figure size 1600x1000 with 1 Axes>"
            ],
            "image/png": "[encoded data removed]"
          },
          "metadata": {}
        }
      ],
      "source": [
        "ratings_frequency = pd.DataFrame(ratings.groupby('anime_id').size(), columns=['Count'])\n",
        "ratings_frequency_for_plot = ratings_frequency.sort_values(by='Count').reset_index(drop=True)\n",
        "\n",
        "\n",
        "plt.figure (figsize=(16,10))\n",
        "ax = sns.lineplot(x = ratings_frequency_for_plot.index, y = ratings_frequency_for_plot.Count)\n",
        "ax.set(xlabel='Number of Anime', ylabel='Count', title = 'Frequency of each anime got rated')\n",
        "plt.show()"
      ]
    },
    {
      "cell_type": "markdown",
      "metadata": {
        "id": "i_DqCtbssoBN"
      },
      "source": [
        "## Set an anime rating threshold in order to avoid Long Tail Property"
      ]
    },
    {
      "cell_type": "code",
      "execution_count": null,
      "metadata": {
        "colab": {
          "base_uri": "https://localhost:8080/"
        },
        "id": "SmkzkYDKsoBN",
        "outputId": "09d93db5-a628-4c73-c3fd-421bc83351a8"
      },
      "outputs": [
        {
          "output_type": "stream",
          "name": "stdout",
          "text": [
            "Ratings shape before the removal : (6337241, 3)\n",
            "Number of Anime before the removal : 9927\n",
            "Number of Users before the removal : 69600\n",
            "Ratings shape after the removal : (5739865, 3)\n",
            "Number of Anime after the removal : 2227\n",
            "Number of Users before the removal : 69445\n"
          ]
        }
      ],
      "source": [
        "print ('Ratings shape before the removal : {}'.format(ratings.shape))\n",
        "print ('Number of Anime before the removal : {}'.format(ratings.anime_id.nunique()))\n",
        "print ('Number of Users before the removal : {}'.format(ratings.user_id.nunique()))\n",
        "\n",
        "# Remove all the books with less than 100 ratings.\n",
        "indexes = ratings_frequency [ratings_frequency.Count >= 500].index\n",
        "ratings = ratings [ ratings.anime_id.isin( indexes ) ]\n",
        "\n",
        "print ('Ratings shape after the removal : {}'.format(ratings.shape))\n",
        "print ('Number of Anime after the removal : {}'.format(ratings.anime_id.nunique()))\n",
        "print ('Number of Users before the removal : {}'.format(ratings.user_id.nunique()))"
      ]
    },
    {
      "cell_type": "markdown",
      "metadata": {
        "id": "r2ggwm5TsoBN"
      },
      "source": [
        "## Plot Frequency of each anime got rated Again"
      ]
    },
    {
      "cell_type": "code",
      "execution_count": null,
      "metadata": {
        "colab": {
          "base_uri": "https://localhost:8080/",
          "height": 671
        },
        "id": "8JX5U8YTsoBN",
        "outputId": "4784fc12-5e07-48be-cfba-944cf99c5462"
      },
      "outputs": [
        {
          "output_type": "display_data",
          "data": {
            "text/plain": [
              "<Figure size 1600x1000 with 1 Axes>"
            ],
            "image/png": "[encoded data removed]"
          },
          "metadata": {}
        }
      ],
      "source": [
        "ratings_frequency = pd.DataFrame(ratings.groupby('anime_id').size(), columns=['Count'])\n",
        "ratings_frequency_for_plot = ratings_frequency.sort_values(by='Count').reset_index(drop=True)\n",
        "\n",
        "\n",
        "plt.figure (figsize=(16,10))\n",
        "ax = sns.lineplot(x = ratings_frequency_for_plot.index, y = ratings_frequency_for_plot.Count)\n",
        "ax.set(xlabel='Number of Anime', ylabel='Count', title = 'Frequency of each anime got rated')\n",
        "plt.show()"
      ]
    },
    {
      "cell_type": "markdown",
      "metadata": {
        "id": "LR5sjqE3soBO"
      },
      "source": [
        "## Plot the frequency each user is rating, in order to find the active ones "
      ]
    },
    {
      "cell_type": "code",
      "execution_count": null,
      "metadata": {
        "colab": {
          "base_uri": "https://localhost:8080/",
          "height": 676
        },
        "id": "COyEAoANsoBO",
        "outputId": "4a9f022d-c2e4-4d89-9448-f60e7a2b5dda"
      },
      "outputs": [
        {
          "output_type": "display_data",
          "data": {
            "text/plain": [
              "<Figure size 1600x1000 with 1 Axes>"
            ],
            "image/png": "[encoded data removed]"
          },
          "metadata": {}
        }
      ],
      "source": [
        "users_frequency = pd.DataFrame(ratings.groupby('user_id').size(), columns=['Count'])\n",
        "users_frequency_for_plot = users_frequency.sort_values(by='Count').reset_index(drop=True)\n",
        "\n",
        "\n",
        "plt.figure (figsize=(16,10))\n",
        "ax = sns.lineplot(x = users_frequency_for_plot.index, y = users_frequency_for_plot.Count, color='blue')\n",
        "ax.set(xlabel='Number of Users', ylabel='Count', title = 'Frequency each user is rating')\n",
        "plt.show()"
      ]
    },
    {
      "cell_type": "code",
      "execution_count": null,
      "metadata": {
        "colab": {
          "base_uri": "https://localhost:8080/"
        },
        "id": "orEBPsDisoBO",
        "outputId": "70c1e1a0-2a4f-4efd-e137-0ef2a59afbd1"
      },
      "outputs": [
        {
          "output_type": "stream",
          "name": "stdout",
          "text": [
            "Ratings shape before the removal : (5739865, 3)\n",
            "Number of Anime before the removal : 2227\n",
            "Number of Users before the removal : 69445\n",
            "Ratings shape after the removal : (1207571, 3)\n",
            "Number of Anime after the removal : 2227\n",
            "Number of Users before the removal : 2401\n"
          ]
        }
      ],
      "source": [
        "print ('Ratings shape before the removal : {}'.format(ratings.shape))\n",
        "print ('Number of Anime before the removal : {}'.format(ratings.anime_id.nunique()))\n",
        "print ('Number of Users before the removal : {}'.format(ratings.user_id.nunique()))\n",
        "\n",
        "\n",
        "\n",
        "# Remove all the books with less than 100 ratings.\n",
        "indexes = users_frequency [users_frequency.Count >= 350].index\n",
        "ratings = ratings [ ratings.user_id.isin( indexes ) ]\n",
        "\n",
        "print ('Ratings shape after the removal : {}'.format(ratings.shape))\n",
        "print ('Number of Anime after the removal : {}'.format(ratings.anime_id.nunique()))\n",
        "print ('Number of Users before the removal : {}'.format(ratings.user_id.nunique()))"
      ]
    },
    {
      "cell_type": "markdown",
      "metadata": {
        "id": "h0zqTKy8soBP"
      },
      "source": [
        "## Plot the frequency each user is rating Again"
      ]
    },
    {
      "cell_type": "code",
      "execution_count": null,
      "metadata": {
        "colab": {
          "base_uri": "https://localhost:8080/",
          "height": 672
        },
        "id": "bwQuc7AysoBP",
        "outputId": "d3220efc-2d43-4837-f932-d61e93a84bdf"
      },
      "outputs": [
        {
          "output_type": "display_data",
          "data": {
            "text/plain": [
              "<Figure size 1600x1000 with 1 Axes>"
            ],
            "image/png": "[encoded data removed]"
          },
          "metadata": {}
        }
      ],
      "source": [
        "users_frequency = pd.DataFrame(ratings.groupby('user_id').size(), columns=['Count'])\n",
        "users_frequency_for_plot = users_frequency.sort_values(by='Count').reset_index(drop=True)\n",
        "\n",
        "\n",
        "plt.figure (figsize=(16,10))\n",
        "ax = sns.lineplot(x = users_frequency_for_plot.index, y = users_frequency_for_plot.Count, color='blue')\n",
        "ax.set(xlabel='Number of Users', ylabel='Count', title = 'Frequency each user is rating')\n",
        "plt.show()"
      ]
    },
    {
      "cell_type": "code",
      "execution_count": null,
      "metadata": {
        "colab": {
          "base_uri": "https://localhost:8080/"
        },
        "id": "fMh0d88LsoBP",
        "outputId": "112ca50d-a03a-4202-b50b-bbda13db01c2"
      },
      "outputs": [
        {
          "output_type": "stream",
          "name": "stdout",
          "text": [
            "True    1207571\n",
            "Name: anime_id, dtype: int64 \n",
            "\n"
          ]
        }
      ],
      "source": [
        "#Check if ratings df's UserId and anime id are contained on the other dfs\n",
        "print (ratings.anime_id.isin(anime.anime_id).value_counts(), '\\n')"
      ]
    },
    {
      "cell_type": "markdown",
      "metadata": {
        "id": "ACeeC35isoBQ"
      },
      "source": [
        "# Baseline with Surprise "
      ]
    },
    {
      "cell_type": "code",
      "execution_count": null,
      "metadata": {
        "colab": {
          "base_uri": "https://localhost:8080/"
        },
        "id": "WrUFH69xsoBQ",
        "outputId": "654dd524-6ada-408e-ddfa-bfd9317e1268"
      },
      "outputs": [
        {
          "output_type": "stream",
          "name": "stdout",
          "text": [
            "MSE of SVD :  1.1186954886781588\n",
            "MSE of NMF :  4.32155703288735\n"
          ]
        }
      ],
      "source": [
        "from surprise import Reader, Dataset, SVD, NMF\n",
        "from surprise.model_selection import cross_validate\n",
        "import numpy as np\n",
        "\n",
        "reader = Reader(rating_scale=(1, 10))\n",
        "\n",
        "# The columns must correspond to user id, item id and ratings (in that order).\n",
        "data = Dataset.load_from_df(ratings[['user_id', 'anime_id', 'rating']], reader)\n",
        "\n",
        "# svd\n",
        "algo = SVD()\n",
        "print(\"MSE of SVD : \", np.mean(pow(cross_validate(algo, data, measures=['RMSE'])['test_rmse'], 2)))\n",
        "\n",
        "# nmf\n",
        "algo = NMF()\n",
        "print(\"MSE of NMF : \", np.mean(pow(cross_validate(algo, data, measures=['RMSE'])['test_rmse'], 2)))\n"
      ]
    },
    {
      "cell_type": "markdown",
      "metadata": {
        "id": "oHt0cwvasoBQ"
      },
      "source": [
        "# Neural Network Approach"
      ]
    },
    {
      "cell_type": "markdown",
      "metadata": {
        "id": "F0VMbiR1soBQ"
      },
      "source": [
        "## Define Dataset Class"
      ]
    },
    {
      "cell_type": "code",
      "execution_count": null,
      "metadata": {
        "id": "7OYAQdmzsoBQ"
      },
      "outputs": [],
      "source": [
        "class AnimeDataset (Dataset):\n",
        "    \n",
        "    def __init__ (self, ratings):\n",
        "    \n",
        "        self.ratings = ratings\n",
        "        \n",
        "    def __len__ (self):\n",
        "        return len(self.ratings)\n",
        "    \n",
        "    def __getitem__ (self, index):\n",
        "        \n",
        "        rating = self.ratings['rating'].iloc[index]\n",
        "        user = self.ratings['UsersInt'].iloc[index]\n",
        "        anime = self.ratings['AnimeInt'].iloc[index]\n",
        "        \n",
        "        return {'rating' : rating, 'user' : user, 'anime' : anime}"
      ]
    },
    {
      "cell_type": "markdown",
      "metadata": {
        "id": "PPezSjgmsoBR"
      },
      "source": [
        "## Define Neural Network Architecture"
      ]
    },
    {
      "cell_type": "code",
      "execution_count": null,
      "metadata": {
        "id": "qWT-F2dRsoBR"
      },
      "outputs": [],
      "source": [
        "def get_emb(num_item,num_emb):\n",
        "    emb = nn.Embedding(num_item, num_emb)\n",
        "    emb.weight.data.uniform_(-0.01,0.01)\n",
        "    #emb.weight.data.normal_(0,0.003)\n",
        "\n",
        "    return emb\n",
        "\n",
        "class EmbeddingNet (nn.Module):\n",
        "    \n",
        "    def __init__ (self, num_users, num_anime, num_emb, hidden_dim, drop1=0.05, drop2=0.5):\n",
        "        \n",
        "        super(EmbeddingNet, self).__init__()\n",
        "        \n",
        "        #We create one embedding for both users and books. It's smthing like the matrix factorization\n",
        "        #They are basicaly the weights of the network\n",
        "        self.user_emb = get_emb(num_users, num_emb)\n",
        "        self.anime_emb = get_emb(num_anime, num_emb)\n",
        "\n",
        "        #Its * 2 cause we concacenated the two embeddings\n",
        "        self.dense1 = nn.Linear(num_emb*2, hidden_dim)  # bias is True by default\n",
        "        self.dense2 = nn.Linear(hidden_dim, 1)\n",
        "        self.drop1 = nn.Dropout(p = drop1)\n",
        "        self.drop2 = nn.Dropout(p = drop2)\n",
        "        \n",
        "    def forward (self, batch_users, batch_anime ):\n",
        "        '''\n",
        "        forward pass i.e. :\n",
        "        dot product of vector from books embedding matrixx and vector from user embeddings matrix\n",
        "        \n",
        "        # torch.cat : concatenates both embedding matrix to make more columns, same rows i.e. n_factors*2, n : rows\n",
        "        # u(users) is doing lookup for indexed mentioned in users\n",
        "        # users has indexes to lookup in embedding matrix. \n",
        "        '''\n",
        "        user_emb_out = self.user_emb(batch_users)\n",
        "        anime_emb_out = self.anime_emb(batch_anime)\n",
        "        connected_one_next_to_the_other = torch.cat([user_emb_out,anime_emb_out], 1)\n",
        "        \n",
        "        x = self.drop1(connected_one_next_to_the_other) # drop initialized weights\n",
        "        x = self.drop2(F.relu(self.dense1(x))) # drop 1st linear + nonlinear wt\n",
        "        \n",
        "        #This is used to restrict the predictions between the max and the min rating.\n",
        "        r = torch.sigmoid(self.dense2(x)) * (max_rating - min_rating + 1) #+ min_rating - 0.5       \n",
        "        return r"
      ]
    },
    {
      "cell_type": "markdown",
      "metadata": {
        "id": "dbGxxDJCsoBR"
      },
      "source": [
        "## Define the training Function"
      ]
    },
    {
      "cell_type": "code",
      "execution_count": null,
      "metadata": {
        "id": "qucN__dosoBR"
      },
      "outputs": [],
      "source": [
        "def train_model (number_of_epoch, model, patience):    \n",
        "    \n",
        "    #Initialize Early Stop counter\n",
        "    early_stopping = EarlyStopping(patience=patience, verbose=True)\n",
        "    \n",
        "    for epoch in range(number_of_epoch):\n",
        "\n",
        "        for phase in ['train', 'validation']:\n",
        "\n",
        "            if phase == 'train':\n",
        "                model.train()\n",
        "            if phase == 'validation':\n",
        "                model.eval()\n",
        "\n",
        "            running_loss = 0.0\n",
        "\n",
        "            for batch in dataloaders [phase]:\n",
        "\n",
        "                batch_users = batch['user']\n",
        "                batch_users = batch_users.cuda()\n",
        "                batch_anime = batch['anime']\n",
        "                batch_anime = batch_anime.cuda()\n",
        "                batch_ratings = batch['rating'].view(-1,1).float()\n",
        "                batch_ratings = batch_ratings.cuda()\n",
        "\n",
        "                if phase == 'train':\n",
        "                    optimizer.zero_grad()\n",
        "\n",
        "                output = model(batch_users, batch_anime)\n",
        "                loss =F.mse_loss(output, batch_ratings)\n",
        "                running_loss += loss.item()\n",
        "\n",
        "                if phase == 'train':\n",
        "                    loss.backward()\n",
        "                    optimizer.step()\n",
        "\n",
        "            epoch_loss = running_loss / len(dataloaders [phase])\n",
        "            print(\"Epoch : \", epoch, \", phase : \", phase, \"loss : \" ,epoch_loss)\n",
        "            \n",
        "    \n",
        "            if (phase == 'train') :\n",
        "                train_loss = epoch_loss\n",
        "            if (phase == 'validation') :\n",
        "                validation_loss = epoch_loss\n",
        "                \n",
        "        early_stopping(validation_loss, model)\n",
        "        \n",
        "        if early_stopping.early_stop:\n",
        "            print(\"Early stopping\")\n",
        "            break\n",
        "    \n",
        "        # load the last checkpoint with the best model\n",
        "        model.load_state_dict(torch.load('checkpoint.pt'))\n",
        "    \n",
        "    return model, train_loss, validation_loss"
      ]
    },
    {
      "cell_type": "markdown",
      "metadata": {
        "id": "oKKoix9wsoBS"
      },
      "source": [
        "# Encode the User Id's and Anime Id's with sequential integers, so the embedding layers will be smaller"
      ]
    },
    {
      "cell_type": "code",
      "execution_count": null,
      "metadata": {
        "colab": {
          "base_uri": "https://localhost:8080/",
          "height": 206
        },
        "id": "BaSw9peisoBS",
        "outputId": "86aa8c83-af14-4fd7-9c6c-405c9ae95100"
      },
      "outputs": [
        {
          "output_type": "execute_result",
          "data": {
            "text/plain": [
              "     user_id  anime_id  rating  UsersInt  AnimeInt\n",
              "302        5         6       8         0         2\n",
              "303        5        15       6         0         4\n",
              "304        5        17       6         0         6\n",
              "305        5        18       6         0         7\n",
              "306        5        20       6         0         9"
            ],
            "text/html": [
              "\n",
              "  <div id=\"df-c825bcf3-e25c-4d7c-b0de-0f2cf3c75a49\">\n",
              "    <div class=\"colab-df-container\">\n",
              "      <div>\n",
              "<style scoped>\n",
              "    .dataframe tbody tr th:only-of-type {\n",
              "        vertical-align: middle;\n",
              "    }\n",
              "\n",
              "    .dataframe tbody tr th {\n",
              "        vertical-align: top;\n",
              "    }\n",
              "\n",
              "    .dataframe thead th {\n",
              "        text-align: right;\n",
              "    }\n",
              "</style>\n",
              "<table border=\"1\" class=\"dataframe\">\n",
              "  <thead>\n",
              "    <tr style=\"text-align: right;\">\n",
              "      <th></th>\n",
              "      <th>user_id</th>\n",
              "      <th>anime_id</th>\n",
              "      <th>rating</th>\n",
              "      <th>UsersInt</th>\n",
              "      <th>AnimeInt</th>\n",
              "    </tr>\n",
              "  </thead>\n",
              "  <tbody>\n",
              "    <tr>\n",
              "      <th>302</th>\n",
              "      <td>5</td>\n",
              "      <td>6</td>\n",
              "      <td>8</td>\n",
              "      <td>0</td>\n",
              "      <td>2</td>\n",
              "    </tr>\n",
              "    <tr>\n",
              "      <th>303</th>\n",
              "      <td>5</td>\n",
              "      <td>15</td>\n",
              "      <td>6</td>\n",
              "      <td>0</td>\n",
              "      <td>4</td>\n",
              "    </tr>\n",
              "    <tr>\n",
              "      <th>304</th>\n",
              "      <td>5</td>\n",
              "      <td>17</td>\n",
              "      <td>6</td>\n",
              "      <td>0</td>\n",
              "      <td>6</td>\n",
              "    </tr>\n",
              "    <tr>\n",
              "      <th>305</th>\n",
              "      <td>5</td>\n",
              "      <td>18</td>\n",
              "      <td>6</td>\n",
              "      <td>0</td>\n",
              "      <td>7</td>\n",
              "    </tr>\n",
              "    <tr>\n",
              "      <th>306</th>\n",
              "      <td>5</td>\n",
              "      <td>20</td>\n",
              "      <td>6</td>\n",
              "      <td>0</td>\n",
              "      <td>9</td>\n",
              "    </tr>\n",
              "  </tbody>\n",
              "</table>\n",
              "</div>\n",
              "      <button class=\"colab-df-convert\" onclick=\"convertToInteractive('df-c825bcf3-e25c-4d7c-b0de-0f2cf3c75a49')\"\n",
              "              title=\"Convert this dataframe to an interactive table.\"\n",
              "              style=\"display:none;\">\n",
              "        \n",
              "  <svg xmlns=\"http://www.w3.org/2000/svg\" height=\"24px\"viewBox=\"0 0 24 24\"\n",
              "       width=\"24px\">\n",
              "    <path d=\"M0 0h24v24H0V0z\" fill=\"none\"/>\n",
              "    <path d=\"M18.56 5.44l.94 2.06.94-2.06 2.06-.94-2.06-.94-.94-2.06-.94 2.06-2.06.94zm-11 1L8.5 8.5l.94-2.06 2.06-.94-2.06-.94L8.5 2.5l-.94 2.06-2.06.94zm10 10l.94 2.06.94-2.06 2.06-.94-2.06-.94-.94-2.06-.94 2.06-2.06.94z\"/><path d=\"M17.41 7.96l-1.37-1.37c-.4-.4-.92-.59-1.43-.59-.52 0-1.04.2-1.43.59L10.3 9.45l-7.72 7.72c-.78.78-.78 2.05 0 2.83L4 21.41c.39.39.9.59 1.41.59.51 0 1.02-.2 1.41-.59l7.78-7.78 2.81-2.81c.8-.78.8-2.07 0-2.86zM5.41 20L4 18.59l7.72-7.72 1.47 1.35L5.41 20z\"/>\n",
              "  </svg>\n",
              "      </button>\n",
              "      \n",
              "  <style>\n",
              "    .colab-df-container {\n",
              "      display:flex;\n",
              "      flex-wrap:wrap;\n",
              "      gap: 12px;\n",
              "    }\n",
              "\n",
              "    .colab-df-convert {\n",
              "      background-color: #E8F0FE;\n",
              "      border: none;\n",
              "      border-radius: 50%;\n",
              "      cursor: pointer;\n",
              "      display: none;\n",
              "      fill: #1967D2;\n",
              "      height: 32px;\n",
              "      padding: 0 0 0 0;\n",
              "      width: 32px;\n",
              "    }\n",
              "\n",
              "    .colab-df-convert:hover {\n",
              "      background-color: #E2EBFA;\n",
              "      box-shadow: 0px 1px 2px rgba(60, 64, 67, 0.3), 0px 1px 3px 1px rgba(60, 64, 67, 0.15);\n",
              "      fill: #174EA6;\n",
              "    }\n",
              "\n",
              "    [theme=dark] .colab-df-convert {\n",
              "      background-color: #3B4455;\n",
              "      fill: #D2E3FC;\n",
              "    }\n",
              "\n",
              "    [theme=dark] .colab-df-convert:hover {\n",
              "      background-color: #434B5C;\n",
              "      box-shadow: 0px 1px 3px 1px rgba(0, 0, 0, 0.15);\n",
              "      filter: drop-shadow(0px 1px 2px rgba(0, 0, 0, 0.3));\n",
              "      fill: #FFFFFF;\n",
              "    }\n",
              "  </style>\n",
              "\n",
              "      <script>\n",
              "        const buttonEl =\n",
              "          document.querySelector('#df-c825bcf3-e25c-4d7c-b0de-0f2cf3c75a49 button.colab-df-convert');\n",
              "        buttonEl.style.display =\n",
              "          google.colab.kernel.accessAllowed ? 'block' : 'none';\n",
              "\n",
              "        async function convertToInteractive(key) {\n",
              "          const element = document.querySelector('#df-c825bcf3-e25c-4d7c-b0de-0f2cf3c75a49');\n",
              "          const dataTable =\n",
              "            await google.colab.kernel.invokeFunction('convertToInteractive',\n",
              "                                                     [key], {});\n",
              "          if (!dataTable) return;\n",
              "\n",
              "          const docLinkHtml = 'Like what you see? Visit the ' +\n",
              "            '<a target=\"_blank\" href=https://colab.research.google.com/notebooks/data_table.ipynb>data table notebook</a>'\n",
              "            + ' to learn more about interactive tables.';\n",
              "          element.innerHTML = '';\n",
              "          dataTable['output_type'] = 'display_data';\n",
              "          await google.colab.output.renderOutput(dataTable, element);\n",
              "          const docLink = document.createElement('div');\n",
              "          docLink.innerHTML = docLinkHtml;\n",
              "          element.appendChild(docLink);\n",
              "        }\n",
              "      </script>\n",
              "    </div>\n",
              "  </div>\n",
              "  "
            ]
          },
          "metadata": {},
          "execution_count": 23
        }
      ],
      "source": [
        "user_encoder = LabelEncoder()\n",
        "anime_encoder = LabelEncoder()\n",
        "\n",
        "user_encoder.fit(ratings.user_id.unique())\n",
        "ratings['UsersInt'] = ratings.user_id.map(lambda x : user_encoder.transform([x])[0])\n",
        "\n",
        "anime_encoder.fit(ratings.anime_id.unique())\n",
        "ratings['AnimeInt'] = ratings.anime_id.map(lambda x : anime_encoder.transform([x])[0])\n",
        "\n",
        "ratings.head()"
      ]
    },
    {
      "cell_type": "markdown",
      "metadata": {
        "id": "sCP0HlmLsoBS"
      },
      "source": [
        "## Define the arguments"
      ]
    },
    {
      "cell_type": "code",
      "execution_count": null,
      "metadata": {
        "colab": {
          "base_uri": "https://localhost:8080/"
        },
        "id": "FHvDLBTusoBS",
        "outputId": "0f4006b0-5889-4106-eb2a-675051ee4f46"
      },
      "outputs": [
        {
          "output_type": "stream",
          "name": "stdout",
          "text": [
            "2401\n",
            "2227\n"
          ]
        },
        {
          "output_type": "execute_result",
          "data": {
            "text/plain": [
              "(1, 10)"
            ]
          },
          "metadata": {},
          "execution_count": 24
        }
      ],
      "source": [
        "# Dataset Arguments\n",
        "shuffle_dataset = True\n",
        "batch_size = 128\n",
        "\n",
        "# Model Arguments\n",
        "wd=1e-5\n",
        "learning_rate = 0.01\n",
        "\n",
        "# Training Arguments\n",
        "number_of_splits = 3\n",
        "number_of_epoch = 10\n",
        "patience = 3\n",
        "\n",
        "# Users Embedding Matrix Row Dimension\n",
        "num_users = ratings.UsersInt.max() +1\n",
        "print (num_users)\n",
        "# Books Embedding Matrix RowDimension\n",
        "num_anime = ratings.AnimeInt.max() +1\n",
        "print (num_anime)\n",
        "\n",
        "\n",
        "# Min Max Rating\n",
        "min_rating,max_rating = ratings.rating.min(),ratings.rating.max()\n",
        "min_rating,max_rating"
      ]
    },
    {
      "cell_type": "markdown",
      "metadata": {
        "id": "JjKa5bepsoBT"
      },
      "source": [
        "## I keep 20% of the data for testings  and from the other 80% I do K-Fold Cross Validation with 30% for validation."
      ]
    },
    {
      "cell_type": "code",
      "execution_count": null,
      "metadata": {
        "colab": {
          "base_uri": "https://localhost:8080/"
        },
        "id": "lHm0u-ejsoBT",
        "outputId": "e3ef151d-d057-4952-e634-4347ed13da42"
      },
      "outputs": [
        {
          "output_type": "stream",
          "name": "stdout",
          "text": [
            "\n",
            " Train on : 966056 instances, Test on : 241515\n",
            "\n",
            " Train on : 676239 instances, Validate on : 289817\n",
            "\n",
            " The model's architecture is : \n",
            " EmbeddingNet(\n",
            "  (user_emb): Embedding(2401, 100)\n",
            "  (anime_emb): Embedding(2227, 100)\n",
            "  (dense1): Linear(in_features=200, out_features=100, bias=True)\n",
            "  (dense2): Linear(in_features=100, out_features=1, bias=True)\n",
            "  (drop1): Dropout(p=0.05, inplace=False)\n",
            "  (drop2): Dropout(p=0.5, inplace=False)\n",
            ")\n",
            "\n",
            " Split :  1\n",
            "Epoch :  0 , phase :  train loss :  1.5513794443811766\n",
            "Epoch :  0 , phase :  validation loss :  1.374233009247603\n",
            "Validation loss decreased (inf --> 1.374233).  Saving model ...\n",
            "Epoch :  1 , phase :  train loss :  1.4735921534448553\n",
            "Epoch :  1 , phase :  validation loss :  1.3394658754550104\n",
            "Validation loss decreased (1.374233 --> 1.339466).  Saving model ...\n",
            "Epoch :  2 , phase :  train loss :  1.4521854818149338\n",
            "Epoch :  2 , phase :  validation loss :  1.34539764084896\n",
            "EarlyStopping counter: 1 out of 3\n",
            "Epoch :  3 , phase :  train loss :  1.4535751203323615\n",
            "Epoch :  3 , phase :  validation loss :  1.3233782835436372\n",
            "Validation loss decreased (1.339466 --> 1.323378).  Saving model ...\n",
            "Epoch :  4 , phase :  train loss :  1.4478864238362814\n",
            "Epoch :  4 , phase :  validation loss :  1.3203378532463586\n",
            "Validation loss decreased (1.323378 --> 1.320338).  Saving model ...\n",
            "Epoch :  5 , phase :  train loss :  1.4449319036851298\n",
            "Epoch :  5 , phase :  validation loss :  1.342653204953502\n",
            "EarlyStopping counter: 1 out of 3\n",
            "Epoch :  6 , phase :  train loss :  1.4493507492639295\n",
            "Epoch :  6 , phase :  validation loss :  1.355473772560118\n",
            "EarlyStopping counter: 2 out of 3\n",
            "Epoch :  7 , phase :  train loss :  1.4454698106363915\n",
            "Epoch :  7 , phase :  validation loss :  1.3641709532891482\n",
            "EarlyStopping counter: 3 out of 3\n",
            "Early stopping\n",
            "\n",
            " Split :  2\n",
            "Epoch :  0 , phase :  train loss :  1.55400529612697\n",
            "Epoch :  0 , phase :  validation loss :  1.3705327133829097\n",
            "Validation loss decreased (inf --> 1.370533).  Saving model ...\n",
            "Epoch :  1 , phase :  train loss :  1.4723405102403602\n",
            "Epoch :  1 , phase :  validation loss :  1.3468446645740906\n",
            "Validation loss decreased (1.370533 --> 1.346845).  Saving model ...\n",
            "Epoch :  2 , phase :  train loss :  1.4507568933262915\n",
            "Epoch :  2 , phase :  validation loss :  1.3387314756483155\n",
            "Validation loss decreased (1.346845 --> 1.338731).  Saving model ...\n",
            "Epoch :  3 , phase :  train loss :  1.4468632015838059\n",
            "Epoch :  3 , phase :  validation loss :  1.3349972142716178\n",
            "Validation loss decreased (1.338731 --> 1.334997).  Saving model ...\n",
            "Epoch :  4 , phase :  train loss :  1.4518070181007754\n",
            "Epoch :  4 , phase :  validation loss :  1.3315490607711957\n",
            "Validation loss decreased (1.334997 --> 1.331549).  Saving model ...\n",
            "Epoch :  5 , phase :  train loss :  1.4448129858976058\n",
            "Epoch :  5 , phase :  validation loss :  1.361335874735888\n",
            "EarlyStopping counter: 1 out of 3\n",
            "Epoch :  6 , phase :  train loss :  1.4499705316057807\n",
            "Epoch :  6 , phase :  validation loss :  1.3080760256351094\n",
            "Validation loss decreased (1.331549 --> 1.308076).  Saving model ...\n",
            "Epoch :  7 , phase :  train loss :  1.444861722301629\n",
            "Epoch :  7 , phase :  validation loss :  1.3509323463475746\n",
            "EarlyStopping counter: 1 out of 3\n",
            "Epoch :  8 , phase :  train loss :  1.4505569296038423\n",
            "Epoch :  8 , phase :  validation loss :  1.4064829806030428\n",
            "EarlyStopping counter: 2 out of 3\n",
            "Epoch :  9 , phase :  train loss :  1.4481700681362915\n",
            "Epoch :  9 , phase :  validation loss :  1.3557289933042054\n",
            "EarlyStopping counter: 3 out of 3\n",
            "Early stopping\n",
            "\n",
            " Split :  3\n",
            "Epoch :  0 , phase :  train loss :  1.5513496777561382\n",
            "Epoch :  0 , phase :  validation loss :  1.3665211080662354\n",
            "Validation loss decreased (inf --> 1.366521).  Saving model ...\n",
            "Epoch :  1 , phase :  train loss :  1.4724541020939437\n",
            "Epoch :  1 , phase :  validation loss :  1.3356875472376288\n",
            "Validation loss decreased (1.366521 --> 1.335688).  Saving model ...\n",
            "Epoch :  2 , phase :  train loss :  1.4550854214637226\n",
            "Epoch :  2 , phase :  validation loss :  1.323260895565626\n",
            "Validation loss decreased (1.335688 --> 1.323261).  Saving model ...\n",
            "Epoch :  3 , phase :  train loss :  1.4508627859137624\n",
            "Epoch :  3 , phase :  validation loss :  1.3457739249977543\n",
            "EarlyStopping counter: 1 out of 3\n",
            "Epoch :  4 , phase :  train loss :  1.4613127019873358\n",
            "Epoch :  4 , phase :  validation loss :  1.328327378014583\n",
            "EarlyStopping counter: 2 out of 3\n",
            "Epoch :  5 , phase :  train loss :  1.4530147301096954\n",
            "Epoch :  5 , phase :  validation loss :  1.3070987164974213\n",
            "Validation loss decreased (1.323261 --> 1.307099).  Saving model ...\n",
            "Epoch :  6 , phase :  train loss :  1.448741975278311\n",
            "Epoch :  6 , phase :  validation loss :  1.3198502234351088\n",
            "EarlyStopping counter: 1 out of 3\n",
            "Epoch :  7 , phase :  train loss :  1.4528413124434676\n",
            "Epoch :  7 , phase :  validation loss :  1.3441966503542642\n",
            "EarlyStopping counter: 2 out of 3\n",
            "Epoch :  8 , phase :  train loss :  1.4489493018836657\n",
            "Epoch :  8 , phase :  validation loss :  1.30331950173993\n",
            "Validation loss decreased (1.307099 --> 1.303320).  Saving model ...\n",
            "Epoch :  9 , phase :  train loss :  1.4435034267224982\n",
            "Epoch :  9 , phase :  validation loss :  1.316511806561332\n",
            "EarlyStopping counter: 1 out of 3\n",
            "\n",
            " After 3 - Fold Cross Validation, we got 1.4457144351650604 MSE on training and 1.345470584384895 MSE on validation. \n",
            "\n"
          ]
        }
      ],
      "source": [
        "#Load Dataset\n",
        "dataset = AnimeDataset(ratings)\n",
        "\n",
        "dataset_split = int ( len(dataset) * 0.8 )\n",
        "indices = list(range( len(dataset) ))\n",
        "\n",
        "if shuffle_dataset :\n",
        "        np.random.seed( random.randint(1,100) )\n",
        "        np.random.shuffle(indices)\n",
        "            \n",
        "main_indices = indices[:dataset_split]\n",
        "test_indices = indices[dataset_split:]\n",
        "print ('\\n Train on : {} instances, Test on : {}'.format(len(main_indices), len(test_indices)))\n",
        "\n",
        "       \n",
        "'''CROSS VALIDATION'''\n",
        "# Initalize for cross validation\n",
        "train_losses = []\n",
        "validation_losses = []\n",
        "\n",
        "for split in range(number_of_splits) :\n",
        "    \n",
        "    \n",
        "    '''CREATE THE LOADERS'''\n",
        "\n",
        "    #Spliting\n",
        "    train_split = int ( len(main_indices) * 0.7 ) \n",
        "\n",
        "    # Creating data indices for training and validation splits:\n",
        "    indices = main_indices\n",
        "\n",
        "    if shuffle_dataset :\n",
        "        np.random.seed( random.randint(1,100) )\n",
        "        np.random.shuffle(indices)\n",
        "\n",
        "    train_indices = indices[:train_split]\n",
        "    val_indices = indices[train_split:]\n",
        "\n",
        "    # Creating PT data samplers and loaders:\n",
        "    train_sampler = SubsetRandomSampler(train_indices)\n",
        "    valid_sampler = SubsetRandomSampler(val_indices)\n",
        "\n",
        "    train_loader = DataLoader (dataset = dataset, batch_size = batch_size, sampler = train_sampler, drop_last=True)\n",
        "    validation_loader = DataLoader (dataset = dataset, batch_size = batch_size, sampler = valid_sampler, drop_last=True)\n",
        "\n",
        "    dataloaders = {'train' : train_loader, 'validation' : validation_loader}\n",
        "    dataloaders_size = {'train' : len(train_loader), 'validation' : len(validation_loader)}\n",
        "    \n",
        "    \n",
        "    '''DEFINE THE MODEL'''\n",
        "    \n",
        "    # Model\n",
        "    model = EmbeddingNet(num_users=num_users, num_anime=num_anime, num_emb = 100, hidden_dim=100)\n",
        "    model = model.cuda()\n",
        "    optimizer = optim.Adam(model.parameters(), lr = learning_rate, weight_decay=wd)\n",
        "    \n",
        "    if (split == 0) :\n",
        "        \n",
        "        print ('\\n Train on : {} instances, Validate on : {}'.format(len(train_indices), len(val_indices)))\n",
        "        \n",
        "        print ('\\n The model\\'s architecture is : \\n',   model)\n",
        "    \n",
        "    '''Train the model'''\n",
        "    \n",
        "    print ('\\n Split : ', split+1)\n",
        "    trained_model, train_loss, validation_loss = train_model(number_of_epoch, model, patience)\n",
        "    \n",
        "    train_losses.append(train_loss)\n",
        "    validation_losses.append(validation_loss)\n",
        "    \n",
        "\n",
        "final_train_loss = np.sum(train_losses)/number_of_splits\n",
        "final_validation_loss = np.sum(validation_losses)/number_of_splits\n",
        "print (\"\\n After {} - Fold Cross Validation, we got {} MSE on training and {} MSE on validation. \\n\".format\n",
        "       (number_of_splits, final_train_loss, final_validation_loss))"
      ]
    },
    {
      "cell_type": "markdown",
      "metadata": {
        "id": "Mpy3PdHesoBT"
      },
      "source": [
        "## Train the final Model from all the data which were used for cross validation[80% of all the data], for 2 epoches, cause we saw, that after that the model overfitted, and test that to the test data[20%] which were kept separate before."
      ]
    },
    {
      "cell_type": "code",
      "execution_count": null,
      "metadata": {
        "colab": {
          "base_uri": "https://localhost:8080/"
        },
        "id": "BLxEMm4dsoBT",
        "outputId": "08fe7213-d41d-48a4-b415-14e52eb3b638"
      },
      "outputs": [
        {
          "output_type": "stream",
          "name": "stdout",
          "text": [
            "Epoch :  0 loss :  1.527843120541338\n",
            "Epoch :  1 loss :  1.459460956601413\n",
            "Epoch :  2 loss :  1.4487710137295853\n",
            "\n",
            " Test Loss :  1.4472272231432186\n"
          ]
        }
      ],
      "source": [
        "'''Create the final Model from all the dataset'''\n",
        "#Dataset \n",
        "main_sampler = SubsetRandomSampler(main_indices)\n",
        "main_loader = DataLoader (dataset = dataset, batch_size = batch_size, sampler = main_sampler, drop_last=True)\n",
        "test_sampler = SubsetRandomSampler(test_indices)\n",
        "test_loader = DataLoader (dataset = dataset, batch_size = batch_size, sampler = test_sampler, drop_last=True)\n",
        "\n",
        "# Model\n",
        "model = EmbeddingNet(num_users=num_users, num_anime=num_anime, num_emb = 100, hidden_dim=100)\n",
        "model = model.cuda()\n",
        "optimizer = optim.Adam(model.parameters(), lr = learning_rate, weight_decay=wd)\n",
        "\n",
        "#Train the model from all the training dataset\n",
        "for epoch in range(3):\n",
        "    model.train()\n",
        "    running_loss = 0.0\n",
        "    for batch in main_loader:\n",
        "        batch_users = batch['user']\n",
        "        batch_users = batch_users.cuda()\n",
        "        batch_anime = batch['anime']\n",
        "        batch_anime = batch_anime.cuda()\n",
        "        batch_ratings = batch['rating'].view(-1,1).float()\n",
        "        batch_ratings = batch_ratings.cuda()\n",
        "        \n",
        "        optimizer.zero_grad()\n",
        "\n",
        "        output = model(batch_users, batch_anime)\n",
        "        loss =F.mse_loss(output, batch_ratings)\n",
        "        running_loss += loss.item()\n",
        "        \n",
        "        loss.backward()\n",
        "        optimizer.step()\n",
        "\n",
        "    epoch_loss = running_loss / len(main_loader)\n",
        "    print(\"Epoch : \", epoch,\"loss : \" ,epoch_loss)    \n",
        "    \n",
        "    \n",
        "#Test the model\n",
        "running_loss = 0.0\n",
        "for batch in test_loader:\n",
        "    batch_users = batch['user']\n",
        "    batch_users = batch_users.cuda()\n",
        "    batch_anime = batch['anime']\n",
        "    batch_anime = batch_anime.cuda()\n",
        "    batch_ratings = batch['rating'].view(-1,1).float()\n",
        "    batch_ratings = batch_ratings.cuda()\n",
        "    \n",
        "    output = model(batch_users, batch_anime)\n",
        "    loss =F.mse_loss(output, batch_ratings)\n",
        "    running_loss += loss.item()\n",
        "\n",
        "test_loss = running_loss / len(test_loader)\n",
        "print(\"\\n Test Loss : \", test_loss)"
      ]
    },
    {
      "cell_type": "markdown",
      "metadata": {
        "id": "ZQ2n6ouRsoBU"
      },
      "source": [
        "## Recommend the top 10 anime for a specific user."
      ]
    },
    {
      "cell_type": "code",
      "execution_count": null,
      "metadata": {
        "colab": {
          "base_uri": "https://localhost:8080/",
          "height": 546
        },
        "id": "WdA5KqEWsoBU",
        "outputId": "e26d2cfd-9059-4cc6-aa0d-784926b5fe1e"
      },
      "outputs": [
        {
          "output_type": "execute_result",
          "data": {
            "text/plain": [
              "   anime_id                                               name  \\\n",
              "0      5114                   Fullmetal Alchemist: Brotherhood   \n",
              "1       820                               Ginga Eiyuu Densetsu   \n",
              "2       934                          Higurashi no Naku Koro ni   \n",
              "3     12531                               Sakamichi no Apollon   \n",
              "4      1566  Ghost in the Shell: Stand Alone Complex - Soli...   \n",
              "5      3002            Gyakkyou Burai Kaiji: Ultimate Survivor   \n",
              "6     28891                            Haikyuu!! Second Season   \n",
              "7       170                                          Slam Dunk   \n",
              "8      9253                                        Steins;Gate   \n",
              "9      2001                         Tengen Toppa Gurren Lagann   \n",
              "\n",
              "                                               genre     type episodes  \\\n",
              "0  Action, Adventure, Drama, Fantasy, Magic, Mili...       TV       64   \n",
              "1                     Drama, Military, Sci-Fi, Space      OVA      110   \n",
              "2  Horror, Mystery, Psychological, Supernatural, ...       TV       26   \n",
              "3               Drama, Josei, Music, Romance, School       TV       12   \n",
              "4   Mecha, Military, Mystery, Police, Sci-Fi, Seinen  Special        1   \n",
              "5              Game, Psychological, Seinen, Thriller       TV       26   \n",
              "6             Comedy, Drama, School, Shounen, Sports       TV       25   \n",
              "7             Comedy, Drama, School, Shounen, Sports       TV      101   \n",
              "8                                   Sci-Fi, Thriller       TV       24   \n",
              "9           Action, Adventure, Comedy, Mecha, Sci-Fi       TV       27   \n",
              "\n",
              "   rating  members  Predicted_Rating  \n",
              "0    9.26   793665                10  \n",
              "1    9.11    80679                10  \n",
              "2    8.17   359494                10  \n",
              "3    8.48   146592                10  \n",
              "4    8.22    55247                10  \n",
              "5    8.33    98996                10  \n",
              "6    8.93   179342                10  \n",
              "7    8.56    82570                10  \n",
              "8    9.17   673572                10  \n",
              "9    8.78   562962                10  "
            ],
            "text/html": [
              "\n",
              "  <div id=\"df-e0386aca-04fb-470d-8ea8-4cb4a6e44680\">\n",
              "    <div class=\"colab-df-container\">\n",
              "      <div>\n",
              "<style scoped>\n",
              "    .dataframe tbody tr th:only-of-type {\n",
              "        vertical-align: middle;\n",
              "    }\n",
              "\n",
              "    .dataframe tbody tr th {\n",
              "        vertical-align: top;\n",
              "    }\n",
              "\n",
              "    .dataframe thead th {\n",
              "        text-align: right;\n",
              "    }\n",
              "</style>\n",
              "<table border=\"1\" class=\"dataframe\">\n",
              "  <thead>\n",
              "    <tr style=\"text-align: right;\">\n",
              "      <th></th>\n",
              "      <th>anime_id</th>\n",
              "      <th>name</th>\n",
              "      <th>genre</th>\n",
              "      <th>type</th>\n",
              "      <th>episodes</th>\n",
              "      <th>rating</th>\n",
              "      <th>members</th>\n",
              "      <th>Predicted_Rating</th>\n",
              "    </tr>\n",
              "  </thead>\n",
              "  <tbody>\n",
              "    <tr>\n",
              "      <th>0</th>\n",
              "      <td>5114</td>\n",
              "      <td>Fullmetal Alchemist: Brotherhood</td>\n",
              "      <td>Action, Adventure, Drama, Fantasy, Magic, Mili...</td>\n",
              "      <td>TV</td>\n",
              "      <td>64</td>\n",
              "      <td>9.26</td>\n",
              "      <td>793665</td>\n",
              "      <td>10</td>\n",
              "    </tr>\n",
              "    <tr>\n",
              "      <th>1</th>\n",
              "      <td>820</td>\n",
              "      <td>Ginga Eiyuu Densetsu</td>\n",
              "      <td>Drama, Military, Sci-Fi, Space</td>\n",
              "      <td>OVA</td>\n",
              "      <td>110</td>\n",
              "      <td>9.11</td>\n",
              "      <td>80679</td>\n",
              "      <td>10</td>\n",
              "    </tr>\n",
              "    <tr>\n",
              "      <th>2</th>\n",
              "      <td>934</td>\n",
              "      <td>Higurashi no Naku Koro ni</td>\n",
              "      <td>Horror, Mystery, Psychological, Supernatural, ...</td>\n",
              "      <td>TV</td>\n",
              "      <td>26</td>\n",
              "      <td>8.17</td>\n",
              "      <td>359494</td>\n",
              "      <td>10</td>\n",
              "    </tr>\n",
              "    <tr>\n",
              "      <th>3</th>\n",
              "      <td>12531</td>\n",
              "      <td>Sakamichi no Apollon</td>\n",
              "      <td>Drama, Josei, Music, Romance, School</td>\n",
              "      <td>TV</td>\n",
              "      <td>12</td>\n",
              "      <td>8.48</td>\n",
              "      <td>146592</td>\n",
              "      <td>10</td>\n",
              "    </tr>\n",
              "    <tr>\n",
              "      <th>4</th>\n",
              "      <td>1566</td>\n",
              "      <td>Ghost in the Shell: Stand Alone Complex - Soli...</td>\n",
              "      <td>Mecha, Military, Mystery, Police, Sci-Fi, Seinen</td>\n",
              "      <td>Special</td>\n",
              "      <td>1</td>\n",
              "      <td>8.22</td>\n",
              "      <td>55247</td>\n",
              "      <td>10</td>\n",
              "    </tr>\n",
              "    <tr>\n",
              "      <th>5</th>\n",
              "      <td>3002</td>\n",
              "      <td>Gyakkyou Burai Kaiji: Ultimate Survivor</td>\n",
              "      <td>Game, Psychological, Seinen, Thriller</td>\n",
              "      <td>TV</td>\n",
              "      <td>26</td>\n",
              "      <td>8.33</td>\n",
              "      <td>98996</td>\n",
              "      <td>10</td>\n",
              "    </tr>\n",
              "    <tr>\n",
              "      <th>6</th>\n",
              "      <td>28891</td>\n",
              "      <td>Haikyuu!! Second Season</td>\n",
              "      <td>Comedy, Drama, School, Shounen, Sports</td>\n",
              "      <td>TV</td>\n",
              "      <td>25</td>\n",
              "      <td>8.93</td>\n",
              "      <td>179342</td>\n",
              "      <td>10</td>\n",
              "    </tr>\n",
              "    <tr>\n",
              "      <th>7</th>\n",
              "      <td>170</td>\n",
              "      <td>Slam Dunk</td>\n",
              "      <td>Comedy, Drama, School, Shounen, Sports</td>\n",
              "      <td>TV</td>\n",
              "      <td>101</td>\n",
              "      <td>8.56</td>\n",
              "      <td>82570</td>\n",
              "      <td>10</td>\n",
              "    </tr>\n",
              "    <tr>\n",
              "      <th>8</th>\n",
              "      <td>9253</td>\n",
              "      <td>Steins;Gate</td>\n",
              "      <td>Sci-Fi, Thriller</td>\n",
              "      <td>TV</td>\n",
              "      <td>24</td>\n",
              "      <td>9.17</td>\n",
              "      <td>673572</td>\n",
              "      <td>10</td>\n",
              "    </tr>\n",
              "    <tr>\n",
              "      <th>9</th>\n",
              "      <td>2001</td>\n",
              "      <td>Tengen Toppa Gurren Lagann</td>\n",
              "      <td>Action, Adventure, Comedy, Mecha, Sci-Fi</td>\n",
              "      <td>TV</td>\n",
              "      <td>27</td>\n",
              "      <td>8.78</td>\n",
              "      <td>562962</td>\n",
              "      <td>10</td>\n",
              "    </tr>\n",
              "  </tbody>\n",
              "</table>\n",
              "</div>\n",
              "      <button class=\"colab-df-convert\" onclick=\"convertToInteractive('df-e0386aca-04fb-470d-8ea8-4cb4a6e44680')\"\n",
              "              title=\"Convert this dataframe to an interactive table.\"\n",
              "              style=\"display:none;\">\n",
              "        \n",
              "  <svg xmlns=\"http://www.w3.org/2000/svg\" height=\"24px\"viewBox=\"0 0 24 24\"\n",
              "       width=\"24px\">\n",
              "    <path d=\"M0 0h24v24H0V0z\" fill=\"none\"/>\n",
              "    <path d=\"M18.56 5.44l.94 2.06.94-2.06 2.06-.94-2.06-.94-.94-2.06-.94 2.06-2.06.94zm-11 1L8.5 8.5l.94-2.06 2.06-.94-2.06-.94L8.5 2.5l-.94 2.06-2.06.94zm10 10l.94 2.06.94-2.06 2.06-.94-2.06-.94-.94-2.06-.94 2.06-2.06.94z\"/><path d=\"M17.41 7.96l-1.37-1.37c-.4-.4-.92-.59-1.43-.59-.52 0-1.04.2-1.43.59L10.3 9.45l-7.72 7.72c-.78.78-.78 2.05 0 2.83L4 21.41c.39.39.9.59 1.41.59.51 0 1.02-.2 1.41-.59l7.78-7.78 2.81-2.81c.8-.78.8-2.07 0-2.86zM5.41 20L4 18.59l7.72-7.72 1.47 1.35L5.41 20z\"/>\n",
              "  </svg>\n",
              "      </button>\n",
              "      \n",
              "  <style>\n",
              "    .colab-df-container {\n",
              "      display:flex;\n",
              "      flex-wrap:wrap;\n",
              "      gap: 12px;\n",
              "    }\n",
              "\n",
              "    .colab-df-convert {\n",
              "      background-color: #E8F0FE;\n",
              "      border: none;\n",
              "      border-radius: 50%;\n",
              "      cursor: pointer;\n",
              "      display: none;\n",
              "      fill: #1967D2;\n",
              "      height: 32px;\n",
              "      padding: 0 0 0 0;\n",
              "      width: 32px;\n",
              "    }\n",
              "\n",
              "    .colab-df-convert:hover {\n",
              "      background-color: #E2EBFA;\n",
              "      box-shadow: 0px 1px 2px rgba(60, 64, 67, 0.3), 0px 1px 3px 1px rgba(60, 64, 67, 0.15);\n",
              "      fill: #174EA6;\n",
              "    }\n",
              "\n",
              "    [theme=dark] .colab-df-convert {\n",
              "      background-color: #3B4455;\n",
              "      fill: #D2E3FC;\n",
              "    }\n",
              "\n",
              "    [theme=dark] .colab-df-convert:hover {\n",
              "      background-color: #434B5C;\n",
              "      box-shadow: 0px 1px 3px 1px rgba(0, 0, 0, 0.15);\n",
              "      filter: drop-shadow(0px 1px 2px rgba(0, 0, 0, 0.3));\n",
              "      fill: #FFFFFF;\n",
              "    }\n",
              "  </style>\n",
              "\n",
              "      <script>\n",
              "        const buttonEl =\n",
              "          document.querySelector('#df-e0386aca-04fb-470d-8ea8-4cb4a6e44680 button.colab-df-convert');\n",
              "        buttonEl.style.display =\n",
              "          google.colab.kernel.accessAllowed ? 'block' : 'none';\n",
              "\n",
              "        async function convertToInteractive(key) {\n",
              "          const element = document.querySelector('#df-e0386aca-04fb-470d-8ea8-4cb4a6e44680');\n",
              "          const dataTable =\n",
              "            await google.colab.kernel.invokeFunction('convertToInteractive',\n",
              "                                                     [key], {});\n",
              "          if (!dataTable) return;\n",
              "\n",
              "          const docLinkHtml = 'Like what you see? Visit the ' +\n",
              "            '<a target=\"_blank\" href=https://colab.research.google.com/notebooks/data_table.ipynb>data table notebook</a>'\n",
              "            + ' to learn more about interactive tables.';\n",
              "          element.innerHTML = '';\n",
              "          dataTable['output_type'] = 'display_data';\n",
              "          await google.colab.output.renderOutput(dataTable, element);\n",
              "          const docLink = document.createElement('div');\n",
              "          docLink.innerHTML = docLinkHtml;\n",
              "          element.appendChild(docLink);\n",
              "        }\n",
              "      </script>\n",
              "    </div>\n",
              "  </div>\n",
              "  "
            ]
          },
          "metadata": {},
          "execution_count": 27
        }
      ],
      "source": [
        "'''Collect the data for a specific user'''\n",
        "# Take one random of the users who left.\n",
        "user_id = np.random.choice(ratings.UsersInt.unique())\n",
        "\n",
        "# Isolate all the indexes of the remaining anime.\n",
        "anime_user_never_read = ratings.loc [ratings.user_id != user_id]\n",
        "all_anime_indexes = torch.Tensor(anime_user_never_read.AnimeInt.unique()).long().cuda()\n",
        "\n",
        "# Create an empty tensor with the same length with the anime\n",
        "empty_tensor = torch.Tensor( len(all_anime_indexes) )\n",
        "# Fill it with the user id\n",
        "user_a_lot = empty_tensor.fill_(user_id) \n",
        "user_a_lot = user_a_lot.long().cuda()\n",
        "\n",
        "\n",
        "\n",
        "'''Prediction of the top 10 anime recommendations for the user'''    \n",
        "preds = model(user_a_lot, all_anime_indexes)\n",
        "\n",
        "#Find top 10 anime\n",
        "predicted_ratings, top_10_anime_pos = preds.flatten().topk(10)\n",
        "top_10_anime_idxs = all_anime_indexes[top_10_anime_pos]\n",
        "top_10_anime = anime_encoder.inverse_transform (top_10_anime_idxs.cpu())\n",
        "\n",
        "results = anime.set_index('anime_id').loc[top_10_anime].reset_index()\n",
        "results['Predicted_Rating'] = predicted_ratings.tolist() \n",
        "results['Predicted_Rating'] = results['Predicted_Rating'].map(round)\n",
        "results"
      ]
    },
    {
      "cell_type": "code",
      "source": [
        "!pip install --upgrade gradio\n"
      ],
      "metadata": {
        "colab": {
          "base_uri": "https://localhost:8080/"
        },
        "id": "eucjfOx2JrOB",
        "outputId": "9cedbd77-fae5-42ac-e35a-a308c1cc99f7"
      },
      "execution_count": null,
      "outputs": [
        {
          "output_type": "stream",
          "name": "stdout",
          "text": [
            "Looking in indexes: https://pypi.org/simple, https://us-python.pkg.dev/colab-wheels/public/simple/\n",
            "Requirement already satisfied: gradio in /usr/local/lib/python3.9/dist-packages (3.27.0)\n",
            "Requirement already satisfied: huggingface-hub>=0.13.0 in /usr/local/lib/python3.9/dist-packages (from gradio) (0.13.4)\n",
            "Requirement already satisfied: markupsafe in /usr/local/lib/python3.9/dist-packages (from gradio) (2.1.2)\n",
            "Requirement already satisfied: matplotlib in /usr/local/lib/python3.9/dist-packages (from gradio) (3.7.1)\n",
            "Requirement already satisfied: aiofiles in /usr/local/lib/python3.9/dist-packages (from gradio) (23.1.0)\n",
            "Requirement already satisfied: aiohttp in /usr/local/lib/python3.9/dist-packages (from gradio) (3.8.4)\n",
            "Requirement already satisfied: fastapi in /usr/local/lib/python3.9/dist-packages (from gradio) (0.95.1)\n",
            "Requirement already satisfied: websockets>=10.0 in /usr/local/lib/python3.9/dist-packages (from gradio) (11.0.2)\n",
            "Requirement already satisfied: altair>=4.2.0 in /usr/local/lib/python3.9/dist-packages (from gradio) (4.2.2)\n",
            "Requirement already satisfied: requests in /usr/local/lib/python3.9/dist-packages (from gradio) (2.27.1)\n",
            "Requirement already satisfied: typing-extensions in /usr/local/lib/python3.9/dist-packages (from gradio) (4.5.0)\n",
            "Requirement already satisfied: uvicorn in /usr/local/lib/python3.9/dist-packages (from gradio) (0.21.1)\n",
            "Requirement already satisfied: pillow in /usr/local/lib/python3.9/dist-packages (from gradio) (8.4.0)\n",
            "Requirement already satisfied: jinja2 in /usr/local/lib/python3.9/dist-packages (from gradio) (3.1.2)\n",
            "Requirement already satisfied: pandas in /usr/local/lib/python3.9/dist-packages (from gradio) (1.5.3)\n",
            "Requirement already satisfied: pyyaml in /usr/local/lib/python3.9/dist-packages (from gradio) (6.0)\n",
            "Requirement already satisfied: httpx in /usr/local/lib/python3.9/dist-packages (from gradio) (0.24.0)\n",
            "Requirement already satisfied: pydub in /usr/local/lib/python3.9/dist-packages (from gradio) (0.25.1)\n",
            "Requirement already satisfied: numpy in /usr/local/lib/python3.9/dist-packages (from gradio) (1.22.4)\n",
            "Requirement already satisfied: gradio-client>=0.1.3 in /usr/local/lib/python3.9/dist-packages (from gradio) (0.1.3)\n",
            "Requirement already satisfied: ffmpy in /usr/local/lib/python3.9/dist-packages (from gradio) (0.3.0)\n",
            "Requirement already satisfied: orjson in /usr/local/lib/python3.9/dist-packages (from gradio) (3.8.10)\n",
            "Requirement already satisfied: semantic-version in /usr/local/lib/python3.9/dist-packages (from gradio) (2.10.0)\n",
            "Requirement already satisfied: mdit-py-plugins<=0.3.3 in /usr/local/lib/python3.9/dist-packages (from gradio) (0.3.3)\n",
            "Requirement already satisfied: pydantic in /usr/local/lib/python3.9/dist-packages (from gradio) (1.10.7)\n",
            "Requirement already satisfied: python-multipart in /usr/local/lib/python3.9/dist-packages (from gradio) (0.0.6)\n",
            "Requirement already satisfied: markdown-it-py[linkify]>=2.0.0 in /usr/local/lib/python3.9/dist-packages (from gradio) (2.2.0)\n",
            "Requirement already satisfied: jsonschema>=3.0 in /usr/local/lib/python3.9/dist-packages (from altair>=4.2.0->gradio) (4.3.3)\n",
            "Requirement already satisfied: entrypoints in /usr/local/lib/python3.9/dist-packages (from altair>=4.2.0->gradio) (0.4)\n",
            "Requirement already satisfied: toolz in /usr/local/lib/python3.9/dist-packages (from altair>=4.2.0->gradio) (0.12.0)\n",
            "Requirement already satisfied: packaging in /usr/local/lib/python3.9/dist-packages (from gradio-client>=0.1.3->gradio) (23.1)\n",
            "Requirement already satisfied: fsspec in /usr/local/lib/python3.9/dist-packages (from gradio-client>=0.1.3->gradio) (2023.4.0)\n",
            "Requirement already satisfied: filelock in /usr/local/lib/python3.9/dist-packages (from huggingface-hub>=0.13.0->gradio) (3.11.0)\n",
            "Requirement already satisfied: tqdm>=4.42.1 in /usr/local/lib/python3.9/dist-packages (from huggingface-hub>=0.13.0->gradio) (4.65.0)\n",
            "Requirement already satisfied: mdurl~=0.1 in /usr/local/lib/python3.9/dist-packages (from markdown-it-py[linkify]>=2.0.0->gradio) (0.1.2)\n",
            "Requirement already satisfied: linkify-it-py<3,>=1 in /usr/local/lib/python3.9/dist-packages (from markdown-it-py[linkify]>=2.0.0->gradio) (2.0.0)\n",
            "Requirement already satisfied: pytz>=2020.1 in /usr/local/lib/python3.9/dist-packages (from pandas->gradio) (2022.7.1)\n",
            "Requirement already satisfied: python-dateutil>=2.8.1 in /usr/local/lib/python3.9/dist-packages (from pandas->gradio) (2.8.2)\n",
            "Requirement already satisfied: attrs>=17.3.0 in /usr/local/lib/python3.9/dist-packages (from aiohttp->gradio) (23.1.0)\n",
            "Requirement already satisfied: aiosignal>=1.1.2 in /usr/local/lib/python3.9/dist-packages (from aiohttp->gradio) (1.3.1)\n",
            "Requirement already satisfied: frozenlist>=1.1.1 in /usr/local/lib/python3.9/dist-packages (from aiohttp->gradio) (1.3.3)\n",
            "Requirement already satisfied: yarl<2.0,>=1.0 in /usr/local/lib/python3.9/dist-packages (from aiohttp->gradio) (1.8.2)\n",
            "Requirement already satisfied: charset-normalizer<4.0,>=2.0 in /usr/local/lib/python3.9/dist-packages (from aiohttp->gradio) (2.0.12)\n",
            "Requirement already satisfied: async-timeout<5.0,>=4.0.0a3 in /usr/local/lib/python3.9/dist-packages (from aiohttp->gradio) (4.0.2)\n",
            "Requirement already satisfied: multidict<7.0,>=4.5 in /usr/local/lib/python3.9/dist-packages (from aiohttp->gradio) (6.0.4)\n",
            "Requirement already satisfied: starlette<0.27.0,>=0.26.1 in /usr/local/lib/python3.9/dist-packages (from fastapi->gradio) (0.26.1)\n",
            "Requirement already satisfied: idna in /usr/local/lib/python3.9/dist-packages (from httpx->gradio) (3.4)\n",
            "Requirement already satisfied: certifi in /usr/local/lib/python3.9/dist-packages (from httpx->gradio) (2022.12.7)\n",
            "Requirement already satisfied: sniffio in /usr/local/lib/python3.9/dist-packages (from httpx->gradio) (1.3.0)\n",
            "Requirement already satisfied: httpcore<0.18.0,>=0.15.0 in /usr/local/lib/python3.9/dist-packages (from httpx->gradio) (0.17.0)\n",
            "Requirement already satisfied: importlib-resources>=3.2.0 in /usr/local/lib/python3.9/dist-packages (from matplotlib->gradio) (5.12.0)\n",
            "Requirement already satisfied: kiwisolver>=1.0.1 in /usr/local/lib/python3.9/dist-packages (from matplotlib->gradio) (1.4.4)\n",
            "Requirement already satisfied: pyparsing>=2.3.1 in /usr/local/lib/python3.9/dist-packages (from matplotlib->gradio) (3.0.9)\n",
            "Requirement already satisfied: cycler>=0.10 in /usr/local/lib/python3.9/dist-packages (from matplotlib->gradio) (0.11.0)\n",
            "Requirement already satisfied: fonttools>=4.22.0 in /usr/local/lib/python3.9/dist-packages (from matplotlib->gradio) (4.39.3)\n",
            "Requirement already satisfied: contourpy>=1.0.1 in /usr/local/lib/python3.9/dist-packages (from matplotlib->gradio) (1.0.7)\n",
            "Requirement already satisfied: urllib3<1.27,>=1.21.1 in /usr/local/lib/python3.9/dist-packages (from requests->gradio) (1.26.15)\n",
            "Requirement already satisfied: h11>=0.8 in /usr/local/lib/python3.9/dist-packages (from uvicorn->gradio) (0.14.0)\n",
            "Requirement already satisfied: click>=7.0 in /usr/local/lib/python3.9/dist-packages (from uvicorn->gradio) (8.1.3)\n",
            "Requirement already satisfied: anyio<5.0,>=3.0 in /usr/local/lib/python3.9/dist-packages (from httpcore<0.18.0,>=0.15.0->httpx->gradio) (3.6.2)\n",
            "Requirement already satisfied: zipp>=3.1.0 in /usr/local/lib/python3.9/dist-packages (from importlib-resources>=3.2.0->matplotlib->gradio) (3.15.0)\n",
            "Requirement already satisfied: pyrsistent!=0.17.0,!=0.17.1,!=0.17.2,>=0.14.0 in /usr/local/lib/python3.9/dist-packages (from jsonschema>=3.0->altair>=4.2.0->gradio) (0.19.3)\n",
            "Requirement already satisfied: uc-micro-py in /usr/local/lib/python3.9/dist-packages (from linkify-it-py<3,>=1->markdown-it-py[linkify]>=2.0.0->gradio) (1.0.1)\n",
            "Requirement already satisfied: six>=1.5 in /usr/local/lib/python3.9/dist-packages (from python-dateutil>=2.8.1->pandas->gradio) (1.16.0)\n"
          ]
        }
      ]
    },
    {
      "cell_type": "code",
      "execution_count": null,
      "metadata": {
        "colab": {
          "base_uri": "https://localhost:8080/",
          "height": 745
        },
        "id": "PR_2kywysoBU",
        "outputId": "854ee7d9-847a-408b-da0f-55836fbd48d0"
      },
      "outputs": [
        {
          "output_type": "stream",
          "name": "stderr",
          "text": [
            "/usr/local/lib/python3.9/dist-packages/gradio/inputs.py:27: UserWarning: Usage of gradio.inputs is deprecated, and will not be supported in the future, please import your component from gradio.components\n",
            "  warnings.warn(\n",
            "/usr/local/lib/python3.9/dist-packages/gradio/deprecation.py:40: UserWarning: `optional` parameter is deprecated, and it has no effect\n",
            "  warnings.warn(value)\n",
            "/usr/local/lib/python3.9/dist-packages/gradio/deprecation.py:40: UserWarning: `numeric` parameter is deprecated, and it has no effect\n",
            "  warnings.warn(value)\n"
          ]
        },
        {
          "output_type": "stream",
          "name": "stdout",
          "text": [
            "Colab notebook detected. To show errors in colab notebook, set debug=True in launch()\n",
            "Note: opening Chrome Inspector may crash demo inside Colab notebooks.\n",
            "\n",
            "To create a public link, set `share=True` in `launch()`.\n"
          ]
        },
        {
          "output_type": "display_data",
          "data": {
            "text/plain": [
              "<IPython.core.display.Javascript object>"
            ],
            "application/javascript": [
              "(async (port, path, width, height, cache, element) => {\n",
              "                        if (!google.colab.kernel.accessAllowed && !cache) {\n",
              "                            return;\n",
              "                        }\n",
              "                        element.appendChild(document.createTextNode(''));\n",
              "                        const url = await google.colab.kernel.proxyPort(port, {cache});\n",
              "\n",
              "                        const external_link = document.createElement('div');\n",
              "                        external_link.innerHTML = `\n",
              "                            <div style=\"font-family: monospace; margin-bottom: 0.5rem\">\n",
              "                                Running on <a href=${new URL(path, url).toString()} target=\"_blank\">\n",
              "                                    https://localhost:${port}${path}\n",
              "                                </a>\n",
              "                            </div>\n",
              "                        `;\n",
              "                        element.appendChild(external_link);\n",
              "\n",
              "                        const iframe = document.createElement('iframe');\n",
              "                        iframe.src = new URL(path, url).toString();\n",
              "                        iframe.height = height;\n",
              "                        iframe.allow = \"autoplay; camera; microphone; clipboard-read; clipboard-write;\"\n",
              "                        iframe.width = width;\n",
              "                        iframe.style.border = 0;\n",
              "                        element.appendChild(iframe);\n",
              "                    })(7861, \"/\", \"100%\", 500, false, window.element)"
            ]
          },
          "metadata": {}
        },
        {
          "output_type": "execute_result",
          "data": {
            "text/plain": []
          },
          "metadata": {},
          "execution_count": 33
        }
      ],
      "source": [
        "def recommend_top_anime(anime_name):\n",
        "    # Find the anime_id corresponding to the given anime_name\n",
        "    anime_id = anime.loc[anime['title'] == anime_name, 'anime_id'].values[0]\n",
        "\n",
        "    # Find user_ids who have rated the given anime\n",
        "    user_ids = ratings.loc[ratings['anime_id'] == anime_id, 'user_id'].unique()\n",
        "\n",
        "    # For each user, find their top recommended anime\n",
        "    recommendations = []\n",
        "    for user_id in user_ids:\n",
        "        # The rest of the code remains the same as in the previous example\n",
        "        # ...\n",
        "\n",
        "        recommendations.append(results)\n",
        "\n",
        "    # Combine all recommendations into a single DataFrame and sort by Predicted_Rating\n",
        "    combined_recommendations = pd.concat(recommendations)\n",
        "    combined_recommendations = combined_recommendations.sort_values(by='Predicted_Rating', ascending=False).head(10)\n",
        "\n",
        "    return combined_recommendations[['anime_id', 'title', 'Predicted_Rating']].to_dict('records')\n",
        "\n",
        "\n",
        "iface = gr.Interface(\n",
        "    fn=recommend_top_anime,\n",
        "    inputs=gr.inputs.Textbox(label=\"Anime Name\"),\n",
        "    outputs=\"table\",\n",
        "    title=\"Anime Recommendation\",\n",
        "    description=\"Enter an anime name to get the top 10 anime recommendations for users who rated that anime.\"\n",
        ")\n",
        "\n",
        "iface.launch()\n"
      ]
    }
  ],
  "metadata": {
    "kernelspec": {
      "display_name": "Python 3",
      "language": "python",
      "name": "python3"
    },
    "language_info": {
      "codemirror_mode": {
        "name": "ipython",
        "version": 3
      },
      "file_extension": ".py",
      "mimetype": "text/x-python",
      "name": "python",
      "nbconvert_exporter": "python",
      "pygments_lexer": "ipython3",
      "version": "3.7.4"
    },
    "colab": {
      "provenance": []
    },
    "accelerator": "GPU",
    "gpuClass": "standard"
  },
  "nbformat": 4,
  "nbformat_minor": 0
}